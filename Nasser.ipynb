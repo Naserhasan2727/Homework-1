{
 "cells": [
  {
   "cell_type": "code",
   "execution_count": 1,
   "id": "64a49a87",
   "metadata": {},
   "outputs": [
    {
     "name": "stdout",
     "output_type": "stream",
     "text": [
      "{'HTTP': 80, 'HTTPS': 443, 'FTP': 21, 'DNS': 53}\n"
     ]
    }
   ],
   "source": [
    "L1 = ['HTTP', 'HTTPS', 'FTP', 'DNS']\n",
    "L2 = [80, 443, 21, 53]\n",
    "d = {}\n",
    "for i in range(len(L1)):\n",
    "    d[L1[i]] = L2[i]\n",
    "print(d)"
   ]
  },
  {
   "cell_type": "code",
   "execution_count": 3,
   "id": "3b61b962",
   "metadata": {},
   "outputs": [
    {
     "name": "stdout",
     "output_type": "stream",
     "text": [
      "Enter number 1\n",
      "The factorial is  1\n",
      "Enter number 2\n",
      "The factorial is  2\n",
      "Enter number 3\n",
      "The factorial is  6\n",
      "Enter number 4\n",
      "The factorial is  24\n",
      "Enter number 5\n",
      "The factorial is  120\n",
      "Enter number -2\n"
     ]
    }
   ],
   "source": [
    "def fa(a):\n",
    "    f = 1\n",
    "    while a>0:\n",
    "        f *= a\n",
    "        a-=1\n",
    "    return f\n",
    "while True:\n",
    "    num = int(input(\"Enter number \"))\n",
    "    if num==-2:\n",
    "        break\n",
    "    print(\"The factorial is \",fa(num))"
   ]
  },
  {
   "cell_type": "code",
   "execution_count": 4,
   "id": "75ea8b84",
   "metadata": {},
   "outputs": [
    {
     "name": "stdout",
     "output_type": "stream",
     "text": [
      "Bio\n"
     ]
    }
   ],
   "source": [
    "L = ['Network', 'Bio', 'Programming', 'Physics', 'Music']\n",
    "for item in L:\n",
    "    if item.startswith('B'):\n",
    "        print(item)"
   ]
  },
  {
   "cell_type": "code",
   "execution_count": 5,
   "id": "32c708e8",
   "metadata": {},
   "outputs": [
    {
     "name": "stdout",
     "output_type": "stream",
     "text": [
      "{0: 1, 1: 2, 2: 3, 3: 4, 4: 5, 5: 6, 6: 7, 7: 8, 8: 9, 9: 10, 10: 11}\n"
     ]
    }
   ],
   "source": [
    "d = {i: i + 1 for i in range(11)}\n",
    "print(d)"
   ]
  },
  {
   "cell_type": "code",
   "execution_count": 6,
   "id": "806e1488",
   "metadata": {},
   "outputs": [
    {
     "name": "stdout",
     "output_type": "stream",
     "text": [
      "Enter binary number or a to stop : 111\n",
      "7\n",
      "Enter binary number or a to stop : 222\n",
      "ادخال خاطئ\n",
      "Enter binary number or a to stop : 101\n",
      "5\n",
      "Enter binary number or a to stop : a\n"
     ]
    }
   ],
   "source": [
    "def b_to_d(x):\n",
    "    # تحقق من أن الإدخال يحتوي فقط على الأرقام 0 و 1\n",
    "    for i in x:\n",
    "        if i not in \"10\":\n",
    "            return \"ادخال خاطئ\"\n",
    "\n",
    "    d= 0\n",
    "    b_reversed = x[::-1]\n",
    "    index = 0\n",
    "\n",
    "    while index < len(b_reversed):\n",
    "        d += int(b_reversed[index]) * (2 ** index)\n",
    "        index += 1\n",
    "\n",
    "    return d\n",
    "while True:\n",
    "    b = input(\"Enter binary number or a to stop : \")\n",
    "    if b == \"a\":\n",
    "        break\n",
    "    print(b_to_d(b))"
   ]
  },
  {
   "cell_type": "code",
   "execution_count": 7,
   "id": "753c6378",
   "metadata": {},
   "outputs": [
    {
     "name": "stdout",
     "output_type": "stream",
     "text": [
      "Enter your name: ناصر\n",
      "5 + 3 = 8\n",
      "12 - 4 = 0\n",
      "6 * 7 = 0\n",
      "15 / 3 = 0\n",
      "9 + 10 = 0\n",
      "20 - 5 = 0\n",
      "8 * 2 = 0\n",
      "18 / 6 = 0\n",
      "7 + 7 = 0\n",
      "14 - 7 = 0\n",
      "5 * 5 = 0\n",
      "25 / 5 = 0\n",
      "11 + 2 = 0\n",
      "17 - 9 = 0\n",
      "3 * 3 = 0\n",
      "27 / 3 = 0\n",
      "4 + 4 = 0\n",
      "13 - 6 = 0\n",
      "2 * 8 = 0\n",
      "24 / 4 = 0\n",
      "ناصر, your score is: 1/20\n"
     ]
    }
   ],
   "source": [
    "# قراءة الأسئلة والأجوبة من الملف النصي\n",
    "def read_questions(filename):\n",
    "    questions = []\n",
    "    with open(filename, 'r') as file:\n",
    "        for line in file:\n",
    "            question, answer = line.strip().split('=')\n",
    "            questions.append((question.strip(), int(answer.strip())))\n",
    "    return questions\n",
    "\n",
    "# حساب النتيجة\n",
    "def calculate_score(questions):\n",
    "    score = 0\n",
    "    for question, correct_answer in questions:\n",
    "        user_answer = int(input(f\"{question} = \"))\n",
    "        if user_answer == correct_answer:\n",
    "            score += 1\n",
    "    return score\n",
    "\n",
    "# حفظ النتيجة في ملف CSV\n",
    "def save_score(filename, username, score):\n",
    "    with open(filename, 'a') as file:\n",
    "        file.write(f\"{username},{score}\\n\")\n",
    "\n",
    "# البرنامج الرئيسي\n",
    "def main():\n",
    "    username = input(\"Enter your name: \")\n",
    "    questions = read_questions('questions.txt')\n",
    "    score = calculate_score(questions)\n",
    "    print(f\"{username}, your score is: {score}/20\")\n",
    "    save_score('results.csv', username, score)\n",
    "\n",
    "if __name__ == \"__main__\":\n",
    "    main()"
   ]
  },
  {
   "cell_type": "code",
   "execution_count": 9,
   "id": "1b4c86b8",
   "metadata": {},
   "outputs": [
    {
     "name": "stdout",
     "output_type": "stream",
     "text": [
      "Balance after deposit: $1000.00\n",
      "Balance after withdrawal: $500.00\n",
      "Current balance: $1050.00, Interest rate: 5.00%\n"
     ]
    }
   ],
   "source": [
    "class BankAccount:\n",
    "    def __init__(self, account_number, account_holder):\n",
    "        self.account_number = account_number\n",
    "        self.account_holder = account_holder\n",
    "        self.balance = 0.0\n",
    "\n",
    "    def deposit(self, amount):\n",
    "        self.balance += amount\n",
    "\n",
    "    def withdraw(self, amount):\n",
    "        if amount <= self.balance:\n",
    "            self.balance -= amount\n",
    "        else:\n",
    "            print(\"Insufficient funds\")\n",
    "\n",
    "    def get_balance(self):\n",
    "        return self.balance\n",
    "\n",
    "class SavingsAccount(BankAccount):\n",
    "    def __init__(self, account_number, account_holder, interest_rate):\n",
    "        super().__init__(account_number, account_holder)\n",
    "        self.interest_rate = interest_rate\n",
    "\n",
    "    def apply_interest(self):\n",
    "        self.balance += self.balance * self.interest_rate\n",
    "\n",
    "    def __str__(self):\n",
    "        s=f\"Current balance: ${self.balance:.2f}, Interest rate: {self.interest_rate * 100:.2f}%\"\n",
    "        return s\n",
    "\n",
    "# إنشاء حساب بنك\n",
    "account = BankAccount(\"2474\", \"Nasser\")\n",
    "account.deposit(1000)\n",
    "print(f\"Balance after deposit: ${account.get_balance():.2f}\")\n",
    "account.withdraw(500)\n",
    "print(f\"Balance after withdrawal: ${account.get_balance():.2f}\")\n",
    "\n",
    "# إنشاء حساب توفير\n",
    "savings = SavingsAccount(\"5555\", \"Nasser\", 0.05)\n",
    "savings.deposit(1000)\n",
    "savings.apply_interest()\n",
    "print(savings)"
   ]
  },
  {
   "cell_type": "code",
   "execution_count": null,
   "id": "072834cf",
   "metadata": {},
   "outputs": [],
   "source": []
  }
 ],
 "metadata": {
  "kernelspec": {
   "display_name": "Python 3 (ipykernel)",
   "language": "python",
   "name": "python3"
  },
  "language_info": {
   "codemirror_mode": {
    "name": "ipython",
    "version": 3
   },
   "file_extension": ".py",
   "mimetype": "text/x-python",
   "name": "python",
   "nbconvert_exporter": "python",
   "pygments_lexer": "ipython3",
   "version": "3.11.2"
  }
 },
 "nbformat": 4,
 "nbformat_minor": 5
}
